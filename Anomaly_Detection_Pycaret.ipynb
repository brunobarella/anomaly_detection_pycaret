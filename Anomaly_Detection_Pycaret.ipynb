{
 "cells": [
  {
   "source": [
    "# Anomaly Detection Pycaret\n",
    "\n",
    "### Este script jupyter mostra como empregar uma detecção de anomalia utilizando o pycaret"
   ],
   "cell_type": "markdown",
   "metadata": {}
  },
  {
   "cell_type": "code",
   "execution_count": 1,
   "metadata": {},
   "outputs": [],
   "source": [
    "from pycaret.utils import version\n",
    "version()\n",
    "import pandas as pd\n",
    "import numpy as np"
   ]
  },
  {
   "cell_type": "markdown",
   "metadata": {},
   "source": [
    "## Criação da Base"
   ]
  },
  {
   "cell_type": "code",
   "execution_count": 2,
   "metadata": {},
   "outputs": [],
   "source": [
    "#Created dataset\n",
    "dataset  = [23,45,27,76,56,89,23,210,78,43,76,89,2,54,87,12,90,98,345,76,45,14,76,16,17,9]\n",
    "\n",
    "#Converting to dataframe and assigning col name as Values\n",
    "df = pd.DataFrame(dataset, columns = [\"Values\"])\n",
    "\n"
   ]
  },
  {
   "source": [
    "### Importando biblioteca e inicializando o metodo setup()"
   ],
   "cell_type": "markdown",
   "metadata": {}
  },
  {
   "cell_type": "code",
   "execution_count": 3,
   "metadata": {},
   "outputs": [
    {
     "output_type": "display_data",
     "data": {
      "text/plain": "<pandas.io.formats.style.Styler at 0x7fe2d16b8fd0>",
      "text/html": "<style  type=\"text/css\" >\n</style><table id=\"T_242cdafe_36ad_11eb_87c5_5d3eb6cd586d\" ><thead>    <tr>        <th class=\"blank level0\" ></th>        <th class=\"col_heading level0 col0\" >Description</th>        <th class=\"col_heading level0 col1\" >Value</th>    </tr></thead><tbody>\n                <tr>\n                        <th id=\"T_242cdafe_36ad_11eb_87c5_5d3eb6cd586dlevel0_row0\" class=\"row_heading level0 row0\" >0</th>\n                        <td id=\"T_242cdafe_36ad_11eb_87c5_5d3eb6cd586drow0_col0\" class=\"data row0 col0\" >session_id</td>\n                        <td id=\"T_242cdafe_36ad_11eb_87c5_5d3eb6cd586drow0_col1\" class=\"data row0 col1\" >3084</td>\n            </tr>\n            <tr>\n                        <th id=\"T_242cdafe_36ad_11eb_87c5_5d3eb6cd586dlevel0_row1\" class=\"row_heading level0 row1\" >1</th>\n                        <td id=\"T_242cdafe_36ad_11eb_87c5_5d3eb6cd586drow1_col0\" class=\"data row1 col0\" >Original Data</td>\n                        <td id=\"T_242cdafe_36ad_11eb_87c5_5d3eb6cd586drow1_col1\" class=\"data row1 col1\" >(26, 1)</td>\n            </tr>\n            <tr>\n                        <th id=\"T_242cdafe_36ad_11eb_87c5_5d3eb6cd586dlevel0_row2\" class=\"row_heading level0 row2\" >2</th>\n                        <td id=\"T_242cdafe_36ad_11eb_87c5_5d3eb6cd586drow2_col0\" class=\"data row2 col0\" >Missing Values</td>\n                        <td id=\"T_242cdafe_36ad_11eb_87c5_5d3eb6cd586drow2_col1\" class=\"data row2 col1\" >False</td>\n            </tr>\n            <tr>\n                        <th id=\"T_242cdafe_36ad_11eb_87c5_5d3eb6cd586dlevel0_row3\" class=\"row_heading level0 row3\" >3</th>\n                        <td id=\"T_242cdafe_36ad_11eb_87c5_5d3eb6cd586drow3_col0\" class=\"data row3 col0\" >Numeric Features</td>\n                        <td id=\"T_242cdafe_36ad_11eb_87c5_5d3eb6cd586drow3_col1\" class=\"data row3 col1\" >1</td>\n            </tr>\n            <tr>\n                        <th id=\"T_242cdafe_36ad_11eb_87c5_5d3eb6cd586dlevel0_row4\" class=\"row_heading level0 row4\" >4</th>\n                        <td id=\"T_242cdafe_36ad_11eb_87c5_5d3eb6cd586drow4_col0\" class=\"data row4 col0\" >Categorical Features</td>\n                        <td id=\"T_242cdafe_36ad_11eb_87c5_5d3eb6cd586drow4_col1\" class=\"data row4 col1\" >0</td>\n            </tr>\n            <tr>\n                        <th id=\"T_242cdafe_36ad_11eb_87c5_5d3eb6cd586dlevel0_row5\" class=\"row_heading level0 row5\" >5</th>\n                        <td id=\"T_242cdafe_36ad_11eb_87c5_5d3eb6cd586drow5_col0\" class=\"data row5 col0\" >Ordinal Features</td>\n                        <td id=\"T_242cdafe_36ad_11eb_87c5_5d3eb6cd586drow5_col1\" class=\"data row5 col1\" >False</td>\n            </tr>\n            <tr>\n                        <th id=\"T_242cdafe_36ad_11eb_87c5_5d3eb6cd586dlevel0_row6\" class=\"row_heading level0 row6\" >6</th>\n                        <td id=\"T_242cdafe_36ad_11eb_87c5_5d3eb6cd586drow6_col0\" class=\"data row6 col0\" >High Cardinality Features</td>\n                        <td id=\"T_242cdafe_36ad_11eb_87c5_5d3eb6cd586drow6_col1\" class=\"data row6 col1\" >False</td>\n            </tr>\n            <tr>\n                        <th id=\"T_242cdafe_36ad_11eb_87c5_5d3eb6cd586dlevel0_row7\" class=\"row_heading level0 row7\" >7</th>\n                        <td id=\"T_242cdafe_36ad_11eb_87c5_5d3eb6cd586drow7_col0\" class=\"data row7 col0\" >High Cardinality Method</td>\n                        <td id=\"T_242cdafe_36ad_11eb_87c5_5d3eb6cd586drow7_col1\" class=\"data row7 col1\" >None</td>\n            </tr>\n            <tr>\n                        <th id=\"T_242cdafe_36ad_11eb_87c5_5d3eb6cd586dlevel0_row8\" class=\"row_heading level0 row8\" >8</th>\n                        <td id=\"T_242cdafe_36ad_11eb_87c5_5d3eb6cd586drow8_col0\" class=\"data row8 col0\" >Transformed Data</td>\n                        <td id=\"T_242cdafe_36ad_11eb_87c5_5d3eb6cd586drow8_col1\" class=\"data row8 col1\" >(26, 1)</td>\n            </tr>\n            <tr>\n                        <th id=\"T_242cdafe_36ad_11eb_87c5_5d3eb6cd586dlevel0_row9\" class=\"row_heading level0 row9\" >9</th>\n                        <td id=\"T_242cdafe_36ad_11eb_87c5_5d3eb6cd586drow9_col0\" class=\"data row9 col0\" >CPU Jobs</td>\n                        <td id=\"T_242cdafe_36ad_11eb_87c5_5d3eb6cd586drow9_col1\" class=\"data row9 col1\" >-1</td>\n            </tr>\n            <tr>\n                        <th id=\"T_242cdafe_36ad_11eb_87c5_5d3eb6cd586dlevel0_row10\" class=\"row_heading level0 row10\" >10</th>\n                        <td id=\"T_242cdafe_36ad_11eb_87c5_5d3eb6cd586drow10_col0\" class=\"data row10 col0\" >Use GPU</td>\n                        <td id=\"T_242cdafe_36ad_11eb_87c5_5d3eb6cd586drow10_col1\" class=\"data row10 col1\" >False</td>\n            </tr>\n            <tr>\n                        <th id=\"T_242cdafe_36ad_11eb_87c5_5d3eb6cd586dlevel0_row11\" class=\"row_heading level0 row11\" >11</th>\n                        <td id=\"T_242cdafe_36ad_11eb_87c5_5d3eb6cd586drow11_col0\" class=\"data row11 col0\" >Log Experiment</td>\n                        <td id=\"T_242cdafe_36ad_11eb_87c5_5d3eb6cd586drow11_col1\" class=\"data row11 col1\" >False</td>\n            </tr>\n            <tr>\n                        <th id=\"T_242cdafe_36ad_11eb_87c5_5d3eb6cd586dlevel0_row12\" class=\"row_heading level0 row12\" >12</th>\n                        <td id=\"T_242cdafe_36ad_11eb_87c5_5d3eb6cd586drow12_col0\" class=\"data row12 col0\" >Experiment Name</td>\n                        <td id=\"T_242cdafe_36ad_11eb_87c5_5d3eb6cd586drow12_col1\" class=\"data row12 col1\" >anomaly-default-name</td>\n            </tr>\n            <tr>\n                        <th id=\"T_242cdafe_36ad_11eb_87c5_5d3eb6cd586dlevel0_row13\" class=\"row_heading level0 row13\" >13</th>\n                        <td id=\"T_242cdafe_36ad_11eb_87c5_5d3eb6cd586drow13_col0\" class=\"data row13 col0\" >USI</td>\n                        <td id=\"T_242cdafe_36ad_11eb_87c5_5d3eb6cd586drow13_col1\" class=\"data row13 col1\" >adaf</td>\n            </tr>\n            <tr>\n                        <th id=\"T_242cdafe_36ad_11eb_87c5_5d3eb6cd586dlevel0_row14\" class=\"row_heading level0 row14\" >14</th>\n                        <td id=\"T_242cdafe_36ad_11eb_87c5_5d3eb6cd586drow14_col0\" class=\"data row14 col0\" >Imputation Type</td>\n                        <td id=\"T_242cdafe_36ad_11eb_87c5_5d3eb6cd586drow14_col1\" class=\"data row14 col1\" >simple</td>\n            </tr>\n            <tr>\n                        <th id=\"T_242cdafe_36ad_11eb_87c5_5d3eb6cd586dlevel0_row15\" class=\"row_heading level0 row15\" >15</th>\n                        <td id=\"T_242cdafe_36ad_11eb_87c5_5d3eb6cd586drow15_col0\" class=\"data row15 col0\" >Iterative Imputation Iteration</td>\n                        <td id=\"T_242cdafe_36ad_11eb_87c5_5d3eb6cd586drow15_col1\" class=\"data row15 col1\" >None</td>\n            </tr>\n            <tr>\n                        <th id=\"T_242cdafe_36ad_11eb_87c5_5d3eb6cd586dlevel0_row16\" class=\"row_heading level0 row16\" >16</th>\n                        <td id=\"T_242cdafe_36ad_11eb_87c5_5d3eb6cd586drow16_col0\" class=\"data row16 col0\" >Numeric Imputer</td>\n                        <td id=\"T_242cdafe_36ad_11eb_87c5_5d3eb6cd586drow16_col1\" class=\"data row16 col1\" >mean</td>\n            </tr>\n            <tr>\n                        <th id=\"T_242cdafe_36ad_11eb_87c5_5d3eb6cd586dlevel0_row17\" class=\"row_heading level0 row17\" >17</th>\n                        <td id=\"T_242cdafe_36ad_11eb_87c5_5d3eb6cd586drow17_col0\" class=\"data row17 col0\" >Iterative Imputation Numeric Model</td>\n                        <td id=\"T_242cdafe_36ad_11eb_87c5_5d3eb6cd586drow17_col1\" class=\"data row17 col1\" >None</td>\n            </tr>\n            <tr>\n                        <th id=\"T_242cdafe_36ad_11eb_87c5_5d3eb6cd586dlevel0_row18\" class=\"row_heading level0 row18\" >18</th>\n                        <td id=\"T_242cdafe_36ad_11eb_87c5_5d3eb6cd586drow18_col0\" class=\"data row18 col0\" >Categorical Imputer</td>\n                        <td id=\"T_242cdafe_36ad_11eb_87c5_5d3eb6cd586drow18_col1\" class=\"data row18 col1\" >mode</td>\n            </tr>\n            <tr>\n                        <th id=\"T_242cdafe_36ad_11eb_87c5_5d3eb6cd586dlevel0_row19\" class=\"row_heading level0 row19\" >19</th>\n                        <td id=\"T_242cdafe_36ad_11eb_87c5_5d3eb6cd586drow19_col0\" class=\"data row19 col0\" >Iterative Imputation Categorical Model</td>\n                        <td id=\"T_242cdafe_36ad_11eb_87c5_5d3eb6cd586drow19_col1\" class=\"data row19 col1\" >None</td>\n            </tr>\n            <tr>\n                        <th id=\"T_242cdafe_36ad_11eb_87c5_5d3eb6cd586dlevel0_row20\" class=\"row_heading level0 row20\" >20</th>\n                        <td id=\"T_242cdafe_36ad_11eb_87c5_5d3eb6cd586drow20_col0\" class=\"data row20 col0\" >Unknown Categoricals Handling</td>\n                        <td id=\"T_242cdafe_36ad_11eb_87c5_5d3eb6cd586drow20_col1\" class=\"data row20 col1\" >least_frequent</td>\n            </tr>\n            <tr>\n                        <th id=\"T_242cdafe_36ad_11eb_87c5_5d3eb6cd586dlevel0_row21\" class=\"row_heading level0 row21\" >21</th>\n                        <td id=\"T_242cdafe_36ad_11eb_87c5_5d3eb6cd586drow21_col0\" class=\"data row21 col0\" >Normalize</td>\n                        <td id=\"T_242cdafe_36ad_11eb_87c5_5d3eb6cd586drow21_col1\" class=\"data row21 col1\" >False</td>\n            </tr>\n            <tr>\n                        <th id=\"T_242cdafe_36ad_11eb_87c5_5d3eb6cd586dlevel0_row22\" class=\"row_heading level0 row22\" >22</th>\n                        <td id=\"T_242cdafe_36ad_11eb_87c5_5d3eb6cd586drow22_col0\" class=\"data row22 col0\" >Normalize Method</td>\n                        <td id=\"T_242cdafe_36ad_11eb_87c5_5d3eb6cd586drow22_col1\" class=\"data row22 col1\" >None</td>\n            </tr>\n            <tr>\n                        <th id=\"T_242cdafe_36ad_11eb_87c5_5d3eb6cd586dlevel0_row23\" class=\"row_heading level0 row23\" >23</th>\n                        <td id=\"T_242cdafe_36ad_11eb_87c5_5d3eb6cd586drow23_col0\" class=\"data row23 col0\" >Transformation</td>\n                        <td id=\"T_242cdafe_36ad_11eb_87c5_5d3eb6cd586drow23_col1\" class=\"data row23 col1\" >False</td>\n            </tr>\n            <tr>\n                        <th id=\"T_242cdafe_36ad_11eb_87c5_5d3eb6cd586dlevel0_row24\" class=\"row_heading level0 row24\" >24</th>\n                        <td id=\"T_242cdafe_36ad_11eb_87c5_5d3eb6cd586drow24_col0\" class=\"data row24 col0\" >Transformation Method</td>\n                        <td id=\"T_242cdafe_36ad_11eb_87c5_5d3eb6cd586drow24_col1\" class=\"data row24 col1\" >None</td>\n            </tr>\n            <tr>\n                        <th id=\"T_242cdafe_36ad_11eb_87c5_5d3eb6cd586dlevel0_row25\" class=\"row_heading level0 row25\" >25</th>\n                        <td id=\"T_242cdafe_36ad_11eb_87c5_5d3eb6cd586drow25_col0\" class=\"data row25 col0\" >PCA</td>\n                        <td id=\"T_242cdafe_36ad_11eb_87c5_5d3eb6cd586drow25_col1\" class=\"data row25 col1\" >False</td>\n            </tr>\n            <tr>\n                        <th id=\"T_242cdafe_36ad_11eb_87c5_5d3eb6cd586dlevel0_row26\" class=\"row_heading level0 row26\" >26</th>\n                        <td id=\"T_242cdafe_36ad_11eb_87c5_5d3eb6cd586drow26_col0\" class=\"data row26 col0\" >PCA Method</td>\n                        <td id=\"T_242cdafe_36ad_11eb_87c5_5d3eb6cd586drow26_col1\" class=\"data row26 col1\" >None</td>\n            </tr>\n            <tr>\n                        <th id=\"T_242cdafe_36ad_11eb_87c5_5d3eb6cd586dlevel0_row27\" class=\"row_heading level0 row27\" >27</th>\n                        <td id=\"T_242cdafe_36ad_11eb_87c5_5d3eb6cd586drow27_col0\" class=\"data row27 col0\" >PCA Components</td>\n                        <td id=\"T_242cdafe_36ad_11eb_87c5_5d3eb6cd586drow27_col1\" class=\"data row27 col1\" >None</td>\n            </tr>\n            <tr>\n                        <th id=\"T_242cdafe_36ad_11eb_87c5_5d3eb6cd586dlevel0_row28\" class=\"row_heading level0 row28\" >28</th>\n                        <td id=\"T_242cdafe_36ad_11eb_87c5_5d3eb6cd586drow28_col0\" class=\"data row28 col0\" >Ignore Low Variance</td>\n                        <td id=\"T_242cdafe_36ad_11eb_87c5_5d3eb6cd586drow28_col1\" class=\"data row28 col1\" >False</td>\n            </tr>\n            <tr>\n                        <th id=\"T_242cdafe_36ad_11eb_87c5_5d3eb6cd586dlevel0_row29\" class=\"row_heading level0 row29\" >29</th>\n                        <td id=\"T_242cdafe_36ad_11eb_87c5_5d3eb6cd586drow29_col0\" class=\"data row29 col0\" >Combine Rare Levels</td>\n                        <td id=\"T_242cdafe_36ad_11eb_87c5_5d3eb6cd586drow29_col1\" class=\"data row29 col1\" >False</td>\n            </tr>\n            <tr>\n                        <th id=\"T_242cdafe_36ad_11eb_87c5_5d3eb6cd586dlevel0_row30\" class=\"row_heading level0 row30\" >30</th>\n                        <td id=\"T_242cdafe_36ad_11eb_87c5_5d3eb6cd586drow30_col0\" class=\"data row30 col0\" >Rare Level Threshold</td>\n                        <td id=\"T_242cdafe_36ad_11eb_87c5_5d3eb6cd586drow30_col1\" class=\"data row30 col1\" >None</td>\n            </tr>\n            <tr>\n                        <th id=\"T_242cdafe_36ad_11eb_87c5_5d3eb6cd586dlevel0_row31\" class=\"row_heading level0 row31\" >31</th>\n                        <td id=\"T_242cdafe_36ad_11eb_87c5_5d3eb6cd586drow31_col0\" class=\"data row31 col0\" >Numeric Binning</td>\n                        <td id=\"T_242cdafe_36ad_11eb_87c5_5d3eb6cd586drow31_col1\" class=\"data row31 col1\" >False</td>\n            </tr>\n            <tr>\n                        <th id=\"T_242cdafe_36ad_11eb_87c5_5d3eb6cd586dlevel0_row32\" class=\"row_heading level0 row32\" >32</th>\n                        <td id=\"T_242cdafe_36ad_11eb_87c5_5d3eb6cd586drow32_col0\" class=\"data row32 col0\" >Remove Outliers</td>\n                        <td id=\"T_242cdafe_36ad_11eb_87c5_5d3eb6cd586drow32_col1\" class=\"data row32 col1\" >False</td>\n            </tr>\n            <tr>\n                        <th id=\"T_242cdafe_36ad_11eb_87c5_5d3eb6cd586dlevel0_row33\" class=\"row_heading level0 row33\" >33</th>\n                        <td id=\"T_242cdafe_36ad_11eb_87c5_5d3eb6cd586drow33_col0\" class=\"data row33 col0\" >Outliers Threshold</td>\n                        <td id=\"T_242cdafe_36ad_11eb_87c5_5d3eb6cd586drow33_col1\" class=\"data row33 col1\" >None</td>\n            </tr>\n            <tr>\n                        <th id=\"T_242cdafe_36ad_11eb_87c5_5d3eb6cd586dlevel0_row34\" class=\"row_heading level0 row34\" >34</th>\n                        <td id=\"T_242cdafe_36ad_11eb_87c5_5d3eb6cd586drow34_col0\" class=\"data row34 col0\" >Remove Multicollinearity</td>\n                        <td id=\"T_242cdafe_36ad_11eb_87c5_5d3eb6cd586drow34_col1\" class=\"data row34 col1\" >False</td>\n            </tr>\n            <tr>\n                        <th id=\"T_242cdafe_36ad_11eb_87c5_5d3eb6cd586dlevel0_row35\" class=\"row_heading level0 row35\" >35</th>\n                        <td id=\"T_242cdafe_36ad_11eb_87c5_5d3eb6cd586drow35_col0\" class=\"data row35 col0\" >Multicollinearity Threshold</td>\n                        <td id=\"T_242cdafe_36ad_11eb_87c5_5d3eb6cd586drow35_col1\" class=\"data row35 col1\" >None</td>\n            </tr>\n            <tr>\n                        <th id=\"T_242cdafe_36ad_11eb_87c5_5d3eb6cd586dlevel0_row36\" class=\"row_heading level0 row36\" >36</th>\n                        <td id=\"T_242cdafe_36ad_11eb_87c5_5d3eb6cd586drow36_col0\" class=\"data row36 col0\" >Clustering</td>\n                        <td id=\"T_242cdafe_36ad_11eb_87c5_5d3eb6cd586drow36_col1\" class=\"data row36 col1\" >False</td>\n            </tr>\n            <tr>\n                        <th id=\"T_242cdafe_36ad_11eb_87c5_5d3eb6cd586dlevel0_row37\" class=\"row_heading level0 row37\" >37</th>\n                        <td id=\"T_242cdafe_36ad_11eb_87c5_5d3eb6cd586drow37_col0\" class=\"data row37 col0\" >Clustering Iteration</td>\n                        <td id=\"T_242cdafe_36ad_11eb_87c5_5d3eb6cd586drow37_col1\" class=\"data row37 col1\" >None</td>\n            </tr>\n            <tr>\n                        <th id=\"T_242cdafe_36ad_11eb_87c5_5d3eb6cd586dlevel0_row38\" class=\"row_heading level0 row38\" >38</th>\n                        <td id=\"T_242cdafe_36ad_11eb_87c5_5d3eb6cd586drow38_col0\" class=\"data row38 col0\" >Polynomial Features</td>\n                        <td id=\"T_242cdafe_36ad_11eb_87c5_5d3eb6cd586drow38_col1\" class=\"data row38 col1\" >False</td>\n            </tr>\n            <tr>\n                        <th id=\"T_242cdafe_36ad_11eb_87c5_5d3eb6cd586dlevel0_row39\" class=\"row_heading level0 row39\" >39</th>\n                        <td id=\"T_242cdafe_36ad_11eb_87c5_5d3eb6cd586drow39_col0\" class=\"data row39 col0\" >Polynomial Degree</td>\n                        <td id=\"T_242cdafe_36ad_11eb_87c5_5d3eb6cd586drow39_col1\" class=\"data row39 col1\" >None</td>\n            </tr>\n            <tr>\n                        <th id=\"T_242cdafe_36ad_11eb_87c5_5d3eb6cd586dlevel0_row40\" class=\"row_heading level0 row40\" >40</th>\n                        <td id=\"T_242cdafe_36ad_11eb_87c5_5d3eb6cd586drow40_col0\" class=\"data row40 col0\" >Trignometry Features</td>\n                        <td id=\"T_242cdafe_36ad_11eb_87c5_5d3eb6cd586drow40_col1\" class=\"data row40 col1\" >False</td>\n            </tr>\n            <tr>\n                        <th id=\"T_242cdafe_36ad_11eb_87c5_5d3eb6cd586dlevel0_row41\" class=\"row_heading level0 row41\" >41</th>\n                        <td id=\"T_242cdafe_36ad_11eb_87c5_5d3eb6cd586drow41_col0\" class=\"data row41 col0\" >Polynomial Threshold</td>\n                        <td id=\"T_242cdafe_36ad_11eb_87c5_5d3eb6cd586drow41_col1\" class=\"data row41 col1\" >None</td>\n            </tr>\n            <tr>\n                        <th id=\"T_242cdafe_36ad_11eb_87c5_5d3eb6cd586dlevel0_row42\" class=\"row_heading level0 row42\" >42</th>\n                        <td id=\"T_242cdafe_36ad_11eb_87c5_5d3eb6cd586drow42_col0\" class=\"data row42 col0\" >Group Features</td>\n                        <td id=\"T_242cdafe_36ad_11eb_87c5_5d3eb6cd586drow42_col1\" class=\"data row42 col1\" >False</td>\n            </tr>\n            <tr>\n                        <th id=\"T_242cdafe_36ad_11eb_87c5_5d3eb6cd586dlevel0_row43\" class=\"row_heading level0 row43\" >43</th>\n                        <td id=\"T_242cdafe_36ad_11eb_87c5_5d3eb6cd586drow43_col0\" class=\"data row43 col0\" >Feature Selection</td>\n                        <td id=\"T_242cdafe_36ad_11eb_87c5_5d3eb6cd586drow43_col1\" class=\"data row43 col1\" >False</td>\n            </tr>\n            <tr>\n                        <th id=\"T_242cdafe_36ad_11eb_87c5_5d3eb6cd586dlevel0_row44\" class=\"row_heading level0 row44\" >44</th>\n                        <td id=\"T_242cdafe_36ad_11eb_87c5_5d3eb6cd586drow44_col0\" class=\"data row44 col0\" >Features Selection Threshold</td>\n                        <td id=\"T_242cdafe_36ad_11eb_87c5_5d3eb6cd586drow44_col1\" class=\"data row44 col1\" >None</td>\n            </tr>\n            <tr>\n                        <th id=\"T_242cdafe_36ad_11eb_87c5_5d3eb6cd586dlevel0_row45\" class=\"row_heading level0 row45\" >45</th>\n                        <td id=\"T_242cdafe_36ad_11eb_87c5_5d3eb6cd586drow45_col0\" class=\"data row45 col0\" >Feature Interaction</td>\n                        <td id=\"T_242cdafe_36ad_11eb_87c5_5d3eb6cd586drow45_col1\" class=\"data row45 col1\" >False</td>\n            </tr>\n            <tr>\n                        <th id=\"T_242cdafe_36ad_11eb_87c5_5d3eb6cd586dlevel0_row46\" class=\"row_heading level0 row46\" >46</th>\n                        <td id=\"T_242cdafe_36ad_11eb_87c5_5d3eb6cd586drow46_col0\" class=\"data row46 col0\" >Feature Ratio</td>\n                        <td id=\"T_242cdafe_36ad_11eb_87c5_5d3eb6cd586drow46_col1\" class=\"data row46 col1\" >False</td>\n            </tr>\n            <tr>\n                        <th id=\"T_242cdafe_36ad_11eb_87c5_5d3eb6cd586dlevel0_row47\" class=\"row_heading level0 row47\" >47</th>\n                        <td id=\"T_242cdafe_36ad_11eb_87c5_5d3eb6cd586drow47_col0\" class=\"data row47 col0\" >Interaction Threshold</td>\n                        <td id=\"T_242cdafe_36ad_11eb_87c5_5d3eb6cd586drow47_col1\" class=\"data row47 col1\" >None</td>\n            </tr>\n    </tbody></table>"
     },
     "metadata": {}
    }
   ],
   "source": [
    "#import anomaly detection module\n",
    "from pycaret.anomaly import *\n",
    "\n",
    "#intialize the setup\n",
    "outliers = setup(df , numeric_features = [\"Values\"])"
   ]
  },
  {
   "source": [
    "### Criando o modelo Isolation Forest"
   ],
   "cell_type": "markdown",
   "metadata": {}
  },
  {
   "cell_type": "code",
   "execution_count": 4,
   "metadata": {},
   "outputs": [
    {
     "output_type": "stream",
     "name": "stdout",
     "text": [
      "IForest(behaviour='new', bootstrap=False, contamination=0.05,\n    max_features=1.0, max_samples='auto', n_estimators=100, n_jobs=-1,\n    random_state=3084, verbose=0)\n"
     ]
    }
   ],
   "source": [
    "#Creating a model\n",
    "iso_forest = create_model('iforest')\n",
    "print(iso_forest)\n"
   ]
  },
  {
   "source": [
    "### Plotando o modelo"
   ],
   "cell_type": "markdown",
   "metadata": {}
  },
  {
   "cell_type": "code",
   "execution_count": 1,
   "metadata": {
    "tags": []
   },
   "outputs": [],
   "source": [
    "#plotting the model\n",
    "#plot_model(iso_forest)\n"
   ]
  },
  {
   "source": [
    "### Visualizando os rótulos"
   ],
   "cell_type": "markdown",
   "metadata": {}
  },
  {
   "cell_type": "code",
   "execution_count": 6,
   "metadata": {},
   "outputs": [
    {
     "output_type": "stream",
     "name": "stdout",
     "text": [
      "    Values  Anomaly  Anomaly_Score\n0       23        0      -0.255071\n1       45        0      -0.256781\n2       27        0      -0.223371\n3       76        0      -0.291227\n4       56        0      -0.244322\n5       89        0      -0.273344\n6       23        0      -0.255071\n7      210        1       0.033511\n8       78        0      -0.260146\n9       43        0      -0.231153\n10      76        0      -0.291227\n11      89        0      -0.273344\n12       2        0      -0.100532\n13      54        0      -0.243600\n14      87        0      -0.254562\n15      12        0      -0.247237\n16      90        0      -0.254604\n17      98        0      -0.136883\n18     345        1       0.124027\n19      76        0      -0.291227\n20      45        0      -0.256781\n21      14        0      -0.254928\n22      76        0      -0.291227\n23      16        0      -0.260118\n24      17        0      -0.259104\n25       9        0      -0.216914\n"
     ]
    }
   ],
   "source": [
    "#Assigning the labels\n",
    "outlier_results = assign_model(iso_forest)\n",
    "print(outlier_results)\n"
   ]
  },
  {
   "cell_type": "code",
   "execution_count": null,
   "metadata": {},
   "outputs": [],
   "source": []
  }
 ],
 "metadata": {
  "anaconda-cloud": {},
  "kernelspec": {
   "display_name": "Python 3",
   "language": "python",
   "name": "python3"
  },
  "language_info": {
   "codemirror_mode": {
    "name": "ipython",
    "version": 3
   },
   "file_extension": ".py",
   "mimetype": "text/x-python",
   "name": "python",
   "nbconvert_exporter": "python",
   "pygments_lexer": "ipython3",
   "version": "3.8.5-final"
  }
 },
 "nbformat": 4,
 "nbformat_minor": 1
}